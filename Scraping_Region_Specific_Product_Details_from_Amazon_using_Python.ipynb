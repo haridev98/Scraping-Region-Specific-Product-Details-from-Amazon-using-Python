{
 "cells": [
  {
   "cell_type": "markdown",
   "metadata": {
    "id": "jF4ySjUQ27j7"
   },
   "source": [
    "\n",
    "\n",
    "\n",
    "\n",
    "\n",
    "\n",
    "<img src=\"https://cdn2.downdetector.com/static/uploads/logo/amazon.png\" style=\"width:800px;height:300px;align=center;\">\n",
    "<br>\n",
    "    \n",
    "#  <font color=green>Scraping Region Specific Product Details from Amazon using Python\n",
    "<br>"
   ]
  },
  {
   "cell_type": "markdown",
   "metadata": {
    "id": "-XRzJ4nz27kC"
   },
   "source": [
    "## <font color=#f79b34>1. Introduction\n",
    "   \n"
   ]
  },
  {
   "cell_type": "markdown",
   "metadata": {
    "id": "a2gnImeK27kD"
   },
   "source": [
    "<p> Amazon is one of the world's largest e-commerce conglomerates, and we all know that Amazon has multiple e-commerce websites depending on the region; here is a list of Amazon e-commerce websites.</p>\n",
    "    <ul>\n",
    "       <li><font color=green>Amazon-Australia</li>\n",
    "<li><font color=green>Amazon-Belgium</li>\n",
    "<li><font color=green>Amazon-Brazil</li>\n",
    "<li><font color=green>Amazon-Canada</li>\n",
    "<li><font color=green>Amazon-China</li>\n",
    "<li><font color=green>Amazon-Egypt</li>\n",
    "<li><font color=green>Amazon-France</li>\n",
    "<li><font color=green>Amazon-Germany</li>\n",
    "<li><font color=green>Amazon-India</li>\n",
    "<li><font color=green>Amazon-Italy</li>\n",
    "<li><font color=green>Amazon-Japan</li>\n",
    "<li><font color=green>Amazon-Mexico</li>\n",
    "<li><font color=green>Amazon-Netherlands</li>\n",
    "<li><font color=green>Amazon-Poland</li>\n",
    "<li><font color=green>Amazon-Saudi Arabia</li>\n",
    "<li><font color=green>Amazon-Singapore</li>\n",
    "<li><font color=green>Amazon-Spain</li>\n",
    "<li><font color=green>Amazon-Sweden</li>\n",
    "<li><font color=green>Amazon-Turkey</li>\n",
    "<li><font color=green>Amazon-UAE</li>\n",
    "<li><font color=green>Amazon-UK</li>\n",
    "<li><font color=green>Amazon-US</li>\n",
    "    </ul>\n",
    "\n",
    "    \n",
    "                                                                    \n",
    "\n",
    "    \n",
    "    \n",
    "    \n",
    "\n",
    "<p> The goal of this project is to search for the <i><font color=#f79b34>product specified as input</i> on an Amazon website in a <i><font color=#f79b34>specific region</i> and extract data such as <i><font color=#f79b34>Product name, Product actual rate, Product discounted rate, Product rating, Product rating user count, Product image link, and Product link</i> for future data analytical purposes and export it as a comma-separated values File.</p>\n"
   ]
  },
  {
   "cell_type": "markdown",
   "metadata": {
    "id": "ww2UIq9Q3a4h"
   },
   "source": [
    "### <font color=green>1.1 Here's a step-by-step outline for this project:\n",
    "\n",
    "* Reading the input product keyword and region for the Specific region Amazon Website.\n",
    "\n",
    "* Retrieve the product  search result Html Source code using the request python library from the region specific Amazon website.\n",
    "\n",
    "* Parse the HTML source code using beautiful Soup python library.\n",
    "\n",
    "* Extract the data such as Product name, Product actual rate, Product discounted rate, Product rating, Product rating user count, Product image link, and Product link from the beautiful Soup object.\n",
    "\n",
    "* Compile the extracted information into Pandas library DataFrame.\n",
    "\n",
    "* Export the data as comma-separated values File using Pandas library.\n",
    "\n",
    "* Loop the same to rest of the inputs from the INPUT File."
   ]
  },
  {
   "cell_type": "markdown",
   "metadata": {
    "id": "U3hsUNEh36lL"
   },
   "source": [
    "<br>\n",
    "<hr style=\"height:2px;border-width:0;color:gray;background-color:#f79b34\">"
   ]
  },
  {
   "cell_type": "markdown",
   "metadata": {
    "id": "8NBF0E5p27kE"
   },
   "source": [
    "## <font color=green>2. Input csv file\n",
    " \n"
   ]
  },
  {
   "cell_type": "markdown",
   "metadata": {
    "id": "FaMSS4Cm27kF"
   },
   "source": [
    "<P> The file has two columns: Keyword and Region. The keyword is the product name/keyword to search for on the Amazon website, and the region column specifies which region of the Amazon website to search, such as India, UK, Australia. </p>\n",
    "\n",
    "<b><font color=#f79b34>Input Examples :</b><br>\n",
    "<head>\n",
    "\t<b></b><br>\n",
    "\t<style>\n",
    "\t\ttable {\n",
    "\t\t\tborder:1px solid #b3adad;\n",
    "\t\t\tborder-collapse:collapse;\n",
    "\t\t\tpadding:5px;\n",
    "\t\t}\n",
    "\t\ttable th {\n",
    "\t\t\tborder:1px solid #b3adad;\n",
    "\t\t\tpadding:5px;\n",
    "\t\t\tbackground: #f0f0f0;\n",
    "\t\t\tcolor: #313030;\n",
    "\t\t}\n",
    "\t\ttable td {\n",
    "\t\t\tborder:1px solid #b3adad;\n",
    "\t\t\ttext-align:center;\n",
    "\t\t\tpadding:5px;\n",
    "\t\t\tbackground: #ffffff;\n",
    "\t\t\tcolor: #313030;\n",
    "\t\t}\n",
    "\t</style>\n",
    "</head>\n",
    "<body>\n",
    "\t<table align=\"left\">\n",
    "\t\t<thead >\n",
    "\t\t\t<tr >\n",
    "\t\t\t\t<th><font color=green>keyword</font><br></th>\n",
    "\t\t\t\t<th><font color=green>region</th>\n",
    "\t\t\t</tr>\n",
    "\t\t</thead>\n",
    "\t\t<tbody>\n",
    "\t\t\t<tr>\n",
    "\t\t\t\t<td>&nbsp;mobile</td>\n",
    "\t\t\t\t<td>Poland&nbsp;</td>\n",
    "\t\t\t</tr>\n",
    "\t\t</tbody>\n",
    "\t</table>\n",
    "</body>\n",
    "<div> \n",
    "<br> <br><br><br>\n",
    "<hr style=\"height:2px;border-width:0;color:gray;background-color:#f79b34\">\n",
    "    </div>\n",
    "  \n"
   ]
  },
  {
   "cell_type": "markdown",
   "metadata": {
    "id": "CYv_PvpC27kG"
   },
   "source": [
    "## <font color=green>3. Ouput csv file\n",
    "\n"
   ]
  },
  {
   "cell_type": "markdown",
   "metadata": {
    "id": "RhEFe15127kH"
   },
   "source": [
    "<p> The output file will be named as '<b><I><font color=#f79b34>AMAZON-{Region}  search result for {keyword} </b></I>' CSV file.The file consist of Product name, Product actual rate, Product discounted rate, Product rating, Product rating user count, Product image link, Product link and data processed date and time.</P><br>\n",
    "<b><font color=#f79b34>Output Examples :</b><br>\n",
    "\n",
    "<html>\n",
    "<head>\n",
    "\t<b></b> \n",
    "\t<style>\n",
    "\t\ttable {\n",
    "\t\t\tborder:1px none #b3adad;\n",
    "\t\t\tborder-collapse:collapse;\n",
    "\t\t\tpadding:5px;\n",
    "\t\t}\n",
    "\t\ttable th {\n",
    "\t\t\tborder:1px none #b3adad;\n",
    "\t\t\tpadding:5px;\n",
    "            text-align:left;\n",
    "\t\t\tbackground: #f0f0f0;\n",
    "\t\t\tcolor: #313030;\n",
    "\t\t}\n",
    "\t\ttable td {\n",
    "\t\t\tborder:1px none #b3adad;\n",
    "\t\t\ttext-align:left;\n",
    "\t\t\tpadding:5px;\n",
    "\t\t\tbackground: #ffffff;\n",
    "\t\t\tcolor: #313030;\n",
    "\t\t}\n",
    "\t</style>\n",
    "</head>\n",
    "<body>\n",
    "\t<table align=\"left\">\n",
    "\t\t<thead>\n",
    "\t\t\t<tr>\n",
    "\t\t\t\t<th><b style=\"box-sizing: border-box; color: rgb(0, 0, 0); font-family: &quot;Helvetica Neue&quot;, Helvetica, Arial, sans-serif; font-size: 14px; text-align: left; \"><font color=green>Product_Name</b><br></th>\n",
    "\t\t\t\t<th><b style=\"box-sizing: border-box; color: rgb(0, 0, 0); font-family: &quot;Helvetica Neue&quot;, Helvetica, Arial, sans-serif; font-size: 14px; text-align: left; \"><font color=green>product_rating</b><br></th>\n",
    "\t\t\t\t<th><b style=\"box-sizing: border-box; color: rgb(0, 0, 0); font-family: &quot;Helvetica Neue&quot;, Helvetica, Arial, sans-serif; font-size: 14px; text-align: left; \"><font color=green>product_rating_user_count</b></th>\n",
    "\t\t\t\t<th><b style=\"box-sizing: border-box; color: rgb(0, 0, 0); font-family: &quot;Helvetica Neue&quot;, Helvetica, Arial, sans-serif; font-size: 14px; text-align: left; \"><font color=green>product_actual_price</b></th>\n",
    "\t\t\t\t<th><b style=\"box-sizing: border-box; color: rgb(0, 0, 0); font-family: &quot;Helvetica Neue&quot;, Helvetica, Arial, sans-serif; font-size: 14px; text-align: left; \"><font color=green>product_discounted_price</b><br></th>\n",
    "\t\t\t\t<th><b style=\"box-sizing: border-box; color: rgb(0, 0, 0); font-family: &quot;Helvetica Neue&quot;, Helvetica, Arial, sans-serif; font-size: 14px; text-align: left; \"><font color=green>product_image</b></th>\n",
    "\t\t\t\t<th><table id=\"demoTable\" spellcheck=\"false\" data-ms-editor=\"true\" style=\"color: rgb(74, 74, 74); font-weight: 400; background-color: rgb(255, 255, 255); border: 1px none rgb(179, 173, 173); padding: 5px;\">\n",
    "\t\t<thead>\n",
    "\t\t\t<tr>\n",
    "\t\t\t\t<th><b style=\"box-sizing: border-box; color: rgb(0, 0, 0); font-family: &quot;Helvetica Neue&quot;, Helvetica, Arial, sans-serif; font-size: 14px; text-align: left; \"><font color=green>product_link<br></b><br></th>\n",
    "\t\t\t</tr>\n",
    "\t\t</thead></table></th>\n",
    "\t\t\t\t<th><b style=\"box-sizing: border-box; color: rgb(0, 0, 0); font-family: &quot;Helvetica Neue&quot;, Helvetica, Arial, sans-serif; font-size: 14px; text-align: left; \"><font color=green>data_datetime</b><br></th>\n",
    "\t\t\t</tr>\n",
    "\t\t</thead>\n",
    "\t\t<tbody>\n",
    "\t\t\t<tr>\n",
    "\t\t\t\t<td><font color=\"#313030\">boAt Wave Call Smart Watch, Smart Talk with Advanced Dedicated Bluetooth Calling Chip, 1.69” HD Display with 550 NITS &amp; 70% Color Gamut, 150+ Watch Faces, Multi-Sport Modes,HR,SpO2, IP68(Active Black)</font><br></td>\n",
    "\t\t\t\t<td><font color=\"#313030\">3.8 out of 5 stars</font><br></td>\n",
    "\t\t\t\t<td>8,448&nbsp;</td>\n",
    "\t\t\t\t<td>&nbsp;₹7,990</td>\n",
    "\t\t\t\t<td>₹1,999&nbsp;</td>\n",
    "\t\t\t\t<td>&nbsp;https://m.media-amazon.com/images/I/614AipEWSIL._AC_UY218_.jpg</td>\n",
    "\t\t\t\t<td>&nbsp;https://www.amazon.in//boAt-Wave-Call-Dedicated-Multi-Sport/dp/B0B5B6PQCT/ref=sr_1_1?keywords=smart+watch&amp;qid=1667831470&amp;qu=eyJxc2MiOiI3LjQxIiwicXNhIjoiNy40OCIsInFzcCI6IjYuNzUifQ%3D%3D&amp;sr=8-1</td>\n",
    "\t\t\t\t<td>2022-11-07 14:31:11.390787+00:00</td>\n",
    "\t\t\t</tr>\n",
    "\t\t</tbody>\n",
    "\t</table>\n",
    "</body>\n",
    "\n"
   ]
  },
  {
   "cell_type": "markdown",
   "metadata": {
    "id": "Y8bysPld27kI"
   },
   "source": [
    "<br>\n",
    "<hr style=\"height:2px;border-width:0;color:gray;background-color:#f79b34\">"
   ]
  },
  {
   "cell_type": "markdown",
   "metadata": {
    "id": "vF-AMNtk27kJ"
   },
   "source": [
    "## <font color=green>4. Installing Required Packages\n",
    "    \n",
    "\n",
    "    \n",
    "\n"
   ]
  },
  {
   "cell_type": "markdown",
   "metadata": {
    "id": "1aurHe4J27kK"
   },
   "source": [
    "<ul>\n",
    "        <li><b>Requests : For downloading the HTML code from the Amazon E-commerce Website</b></li>\n",
    "        <li><b>BeautifulSoup4 : For parsing and extracting data from the HTML string</b></li>\n",
    "        <li><b>Pandas : to gather my data into a dataframe for further processing</b></li>\n",
    "</ul>\n",
    "    "
   ]
  },
  {
   "cell_type": "code",
   "execution_count": null,
   "metadata": {
    "colab": {
     "base_uri": "https://localhost:8080/"
    },
    "id": "3Ow1Y0rU27kK",
    "outputId": "cc859838-a284-48aa-a05f-86afe0e215eb"
   },
   "outputs": [
    {
     "name": "stdout",
     "output_type": "stream",
     "text": [
      "\u001b[K     |████████████████████████████████| 68 kB 5.2 MB/s \n",
      "\u001b[?25h  Building wheel for uuid (setup.py) ... \u001b[?25l\u001b[?25hdone\n",
      "\u001b[K     |████████████████████████████████| 128 kB 14.9 MB/s \n",
      "\u001b[?25h"
     ]
    }
   ],
   "source": [
    "!pip install jovian --upgrade --quiet\n",
    "!pip install beautifulsoup4 --upgrade --quiet\n",
    "!pip install pandas --upgrade --quiet"
   ]
  },
  {
   "cell_type": "markdown",
   "metadata": {
    "id": "7QFKkw5027kM"
   },
   "source": [
    "### <font color=#f79b34>4.1 Importing Requied Libraries"
   ]
  },
  {
   "cell_type": "code",
   "execution_count": null,
   "metadata": {
    "id": "yPbwHgaE27kM"
   },
   "outputs": [],
   "source": [
    "import jovian\n",
    "import requests\n",
    "from bs4 import BeautifulSoup\n",
    "import datetime\n",
    "from datetime import timezone\n",
    "import pandas as pd"
   ]
  },
  {
   "cell_type": "markdown",
   "metadata": {
    "id": "U-N3Qkco27kN"
   },
   "source": [
    "<br>\n",
    "<hr style=\"height:2px;border-width:0;color:gray;background-color:#f79b34\">"
   ]
  },
  {
   "cell_type": "markdown",
   "metadata": {
    "id": "8vHs6bOl27kO"
   },
   "source": [
    "## <font color=green>5. Functions"
   ]
  },
  {
   "cell_type": "markdown",
   "metadata": {
    "id": "2HeeBhzm27kO"
   },
   "source": [
    "### <font color=#f79b34>5.1 Function base_url ():\n",
    "    \n",
    "<p>&emsp;&emsp;&emsp;&emsp;&emsp;This function is use to create a proper base url depending on the input region input. For e.g. below we provided screenshots of Amazon-China.</p>\n",
    "    \n",
    "   "
   ]
  },
  {
   "cell_type": "markdown",
   "metadata": {
    "id": "X5ZdjyQ327kO"
   },
   "source": [
    "<b>&ensp;&ensp;&ensp;&ensp;&ensp;&ensp;&ensp;<font color=green>Amazon-China </b><br>\n",
    "<img src=\"https://i.imgur.com/V91AuCz.png\" alt=\"Amazon-China\" style=\"width: 800px;\" align=\"center\" />"
   ]
  },
  {
   "cell_type": "code",
   "execution_count": null,
   "metadata": {
    "id": "XjfSDmGI27kP"
   },
   "outputs": [],
   "source": [
    "def base_url (region):\n",
    "    url_dic = {\n",
    "        \n",
    "        'australia':'https://www.amazon.com.au/',\n",
    "        'belgium':'https://www.amazon.com.be/',\n",
    "        'brazil' : 'https://www.amazon.com.br/',\n",
    "        'brasil' : 'https://www.amazon.com.br/',\n",
    "        'canada': 'https://www.amazon.ca/',\n",
    "        'china':'https://www.amazon.cn/',\n",
    "        'egypt': 'https://www.amazon.eg/',\n",
    "        'france':'https://www.amazon.fr/',\n",
    "        'germany':'https://www.amazon.de/',\n",
    "        'deutschland' :'https://www.amazon.de/',\n",
    "        'india':'https://www.amazon.in/',\n",
    "        'italy':'https://www.amazon.it/',\n",
    "        'japan':'https://www.amazon.co.jp/',\n",
    "        'mexico':'https://www.amazon.com.mx/',\n",
    "        'netherlands':'https://www.amazon.nl/',\n",
    "        'poland':'https://www.amazon.pl/',\n",
    "        'saudi arabia ':'https://www.amazon.sa/',\n",
    "        'singapore':'https://www.amazon.sg/',\n",
    "        'spain':'https://www.amazon.es/',\n",
    "        'sweden':'https://www.amazon.se/',\n",
    "        'turkey':'https://www.amazon.com.tr/',\n",
    "        'uae':'https://www.amazon.ae/',\n",
    "        'uk':'https://www.amazon.co.uk/',\n",
    "        'us':'https://www.amazon.com/'\n",
    "    }   \n",
    "    \n",
    "    if region.lower() in url_dic:\n",
    "        return url_dic[region.lower()]\n",
    "    else:\n",
    "        return url_dic['india']    "
   ]
  },
  {
   "cell_type": "markdown",
   "metadata": {
    "id": "nurrBsbO27kP"
   },
   "source": [
    "<h4><font color=green>Execution of base_url function :</h4>"
   ]
  },
  {
   "cell_type": "code",
   "execution_count": null,
   "metadata": {
    "id": "qphXmkyS27kQ",
    "outputId": "f0210d51-43f8-4032-9f69-6c9118254b7b"
   },
   "outputs": [
    {
     "name": "stdout",
     "output_type": "stream",
     "text": [
      "The Base URL is: https://www.amazon.in/\n",
      "\n"
     ]
    }
   ],
   "source": [
    "demo_region ='India'\n",
    "demo_base_url = base_url(demo_region)\n",
    "print(f\"The Base URL is: {demo_base_url}\\n\")"
   ]
  },
  {
   "cell_type": "markdown",
   "metadata": {
    "id": "SmnJSBlC27kQ"
   },
   "source": [
    "### <font color=#f79b34>5.2 Function url_creator ():\n",
    "    \n",
    "<p>&emsp;&emsp;&emsp;&emsp;&emsp;This function is use to create the search query url with the input as keyword and qid is the unique id which gets generated every time we search something and this qid is used to query other pages of the query results.  </p>\n",
    "<br>\n",
    "    \n",
    "<img src=\"https://i.imgur.com/sO11mzi.png\" alt=\"qid\" style=\"width: 800px;\" align=\"center\" />\n"
   ]
  },
  {
   "cell_type": "code",
   "execution_count": null,
   "metadata": {
    "id": "6uc3veU027kR"
   },
   "outputs": [],
   "source": [
    "def url_creator (keyword,qid ='Null',page = 'Null',region='india') :\n",
    "    url = base_url(region)+'s?k='\n",
    "    k = keyword.split()\n",
    "    for i in range(0,len( k )):\n",
    "        if i == len(k)-1:\n",
    "            url = url+k[i]\n",
    "        else:\n",
    "            url = url+k[i]+\"+\"\n",
    "        \n",
    "    if qid == 'Null' and page== 'Null':\n",
    "        return url\n",
    "    else:\n",
    "        url = url +'&page='+str(page)+'&qid='+qid+'&ref=sr_pg_'+str(page)\n",
    "        return url"
   ]
  },
  {
   "cell_type": "markdown",
   "metadata": {
    "id": "YvURcQ3k27kR"
   },
   "source": [
    "<h4><font color=green>Execution of url_creator function :</h4>"
   ]
  },
  {
   "cell_type": "code",
   "execution_count": null,
   "metadata": {
    "id": "-W6Tkqpr27kS",
    "outputId": "04bf264f-105a-449d-dc42-a4642b673aa0"
   },
   "outputs": [
    {
     "name": "stdout",
     "output_type": "stream",
     "text": [
      "The Search URL is: https://www.amazon.in/s?k=Iphone\n",
      "\n"
     ]
    }
   ],
   "source": [
    "demo_keyword = 'Iphone'\n",
    "demo_url = url_creator(demo_keyword, region=demo_region)\n",
    "print(f\"The Search URL is: {demo_url}\\n\")"
   ]
  },
  {
   "cell_type": "markdown",
   "metadata": {
    "id": "WhCT6Xxs27kS"
   },
   "source": [
    "### <font color=#f79b34>5.3 Function get_data ():\n",
    "    \n",
    "<p>&emsp;&emsp;&emsp;&emsp;&emsp;The get_data function process the url in the internet and gets the source data as response object and also, checks whether if the response has a status_code of 200 OK and sents back the response object as the return value</p>\n",
    "\n",
    "    "
   ]
  },
  {
   "cell_type": "code",
   "execution_count": null,
   "metadata": {
    "id": "wZNASWHp27kT"
   },
   "outputs": [],
   "source": [
    "def get_data( url ):\n",
    "    headers = {'User-Agent': 'Mozilla/5.0 (Windows NT 10.0; Win64; x64) AppleWebKit/537.36 (KHTML, like Gecko) Chrome/107.0.0.0 Safari/537.36'}\n",
    "    try:\n",
    "        data = requests.get(url, headers =headers)\n",
    "        if(int(data.status_code )<300):\n",
    "            return data\n",
    "        else:\n",
    "            return None\n",
    "    except:\n",
    "        return None    "
   ]
  },
  {
   "cell_type": "markdown",
   "metadata": {
    "id": "o_6TW9oc27kT"
   },
   "source": [
    "<h4><font color=green>Execution of get_data function :</h4>"
   ]
  },
  {
   "cell_type": "code",
   "execution_count": null,
   "metadata": {
    "id": "yFoylQfq27kT",
    "outputId": "4ce29d55-413c-4dfb-e7b8-fb1e5a81f799",
    "scrolled": true
   },
   "outputs": [
    {
     "name": "stdout",
     "output_type": "stream",
     "text": [
      "The Response Status Code : 200\n",
      "\n",
      "Response Data : \n",
      "<!doctype html><html lang=\"en-in\" class=\"a-no-js\" data-19ax5a9jf=\"dingo\"><!-- sp:feature:head-start -->\n",
      "<head><script>var aPageStart = (new Date()).getTime();</script><meta charset=\"utf-8\"/>\n",
      "<!-- sp:end-feature:head-start -->\n",
      "<!-- sp:feature:csm:head-open-part1 -->\n",
      "\n",
      "<script type='text/javascript'>var ue_t0=ue_t0||+new Date();</script>\n",
      "<!-- sp:end-feature:csm:head-open-part1 -->\n",
      "<!-- sp:feature:cs-optimization -->\n",
      "<meta http-equiv='x-dns-prefetch-control' content='on'>\n",
      "<link rel=\"dns-prefetch\" href=\"https://images-eu.ssl-images-amazon.com\">\n",
      "<link rel=\"dns-prefetch\" href=\"https://m.media-amazon.com\">\n",
      "<link rel=\"dns-prefetch\" href=\"https://completion.amazon.com\">\n",
      "<!-- sp:end-feature:cs-optimization -->\n",
      "<!-- sp:feature:csm:head-open-part2 -->\n",
      "<script type='text/javascript'>\n",
      "window.ue_ihb = (window.ue_ihb || window.ueinit || 0) + 1;\n",
      "if (window.ue_ihb === 1) {\n",
      "\n",
      "var ue_csm = window,\n",
      "    ue_hob = +new Date();\n",
      "(function(d){var e=d.ue=d.ue||{},f=Date.now||function(){return+new Date};e.d=function\n"
     ]
    }
   ],
   "source": [
    "demo_data = get_data(demo_url)\n",
    "print(f\"The Response Status Code : {demo_data.status_code}\\n\")\n",
    "print(f\"Response Data : \\n{demo_data.text[:1000]}\")"
   ]
  },
  {
   "cell_type": "markdown",
   "metadata": {
    "id": "kZGh70Pl27kT"
   },
   "source": [
    "### <font color=#f79b34>5.4 Function get_page_token ():\n",
    "    \n",
    "<p>&emsp;&emsp;&emsp;&emsp;&emsp;The get_page_token function is used to retrive the qid which is unique for every search in any of the amazon websites.</p>\n",
    "\n",
    "    "
   ]
  },
  {
   "cell_type": "code",
   "execution_count": null,
   "metadata": {
    "id": "5-B8SzAu27kU"
   },
   "outputs": [],
   "source": [
    "def get_page_token(data):\n",
    "    qid = data.find('input', {'name':'qid'})\n",
    "    if qid == None:\n",
    "        return None\n",
    "    else:\n",
    "        return str(qid['value'])"
   ]
  },
  {
   "cell_type": "markdown",
   "metadata": {
    "id": "Vjm-Ik5A27kU"
   },
   "source": [
    "<h4><font color=green>Execution of get_page_token function :</h4>"
   ]
  },
  {
   "cell_type": "code",
   "execution_count": null,
   "metadata": {
    "id": "r3fkXNXz27kU",
    "outputId": "4a518256-15dd-4a8c-af2b-6203f8551386",
    "scrolled": true
   },
   "outputs": [
    {
     "name": "stdout",
     "output_type": "stream",
     "text": [
      "qid of the search result is : 1667891262\n"
     ]
    }
   ],
   "source": [
    " demo_bs_data = BeautifulSoup(demo_data.text, 'html.parser')\n",
    "print(f\"qid of the search result is : {get_page_token(demo_bs_data)}\")"
   ]
  },
  {
   "cell_type": "markdown",
   "metadata": {
    "id": "0dKVMNEd27kV"
   },
   "source": [
    "### <font color=#f79b34>5.5 Function get_total_pages ():\n",
    "    \n",
    "<p>&emsp;&emsp;&emsp;&emsp;&emsp;This function is used to retrive total number of bages the search query returned.</p>\n"
   ]
  },
  {
   "cell_type": "code",
   "execution_count": null,
   "metadata": {
    "id": "u3zfryx027kV"
   },
   "outputs": [],
   "source": [
    "def get_total_pages(data):\n",
    "    pages = data.find(class_='s-pagination-item s-pagination-disabled')\n",
    "    if pages == None:\n",
    "        return '1'\n",
    "    else :\n",
    "        return pages.text"
   ]
  },
  {
   "cell_type": "markdown",
   "metadata": {
    "id": "6vcYgqYx27kV"
   },
   "source": [
    "<h4><font color=green>Execution of get_total_pages function :</h4>"
   ]
  },
  {
   "cell_type": "code",
   "execution_count": null,
   "metadata": {
    "id": "aEybgfU227kV",
    "outputId": "aba4b941-cc61-4cb3-ba9a-4dbf1ac33aa4"
   },
   "outputs": [
    {
     "name": "stdout",
     "output_type": "stream",
     "text": [
      "Total pages the search query returned: 20\n"
     ]
    }
   ],
   "source": [
    "print(f\"Total pages the search query returned: {get_total_pages(demo_bs_data)}\")"
   ]
  },
  {
   "cell_type": "markdown",
   "metadata": {
    "id": "lC6vtGr227kW"
   },
   "source": [
    "### <font color=#f79b34>5.6 Function product_name ():\n",
    "    \n",
    "<p>&emsp;&emsp;&emsp;&emsp;&emsp;The function product_name is used to extract the product title from span tag which has the specific class mentioned in the function.</p>\n",
    "    \n",
    "<img src=\"https://i.imgur.com/hFrghYK.png\" alt=\"qid\" style=\"width: 800px;\" align=\"center\" />\n"
   ]
  },
  {
   "cell_type": "code",
   "execution_count": null,
   "metadata": {
    "id": "1VyEcCkB27kW"
   },
   "outputs": [],
   "source": [
    "def product_name(data):\n",
    "    product_name_data=data.find(class_= 'a-size-medium a-color-base a-text-normal')\n",
    "    if product_name_data == None:\n",
    "        product_name_data=data.find('span',{'class': 'a-size-base-plus a-color-base a-text-normal'})\n",
    "        if product_name_data == None:\n",
    "            product_name = 'Null'\n",
    "        else:\n",
    "            product_name = product_name_data.text\n",
    "        \n",
    "        \n",
    "    else:\n",
    "        product_name = product_name_data.text\n",
    "        \n",
    "    return product_name    "
   ]
  },
  {
   "cell_type": "markdown",
   "metadata": {
    "id": "vEn7I9ps27kW"
   },
   "source": [
    "### <font color=#f79b34>5.7 Function product_rating ():\n",
    "    \n",
    "<p>&emsp;&emsp;&emsp;&emsp;&emsp;The function product_rating is used to extract the product rating from the bs object using beautifulsoup library.</p>\n",
    "    \n",
    "<img src=\"https://i.imgur.com/hgvFYSn.png\" alt=\"qid\" style=\"width: 800px;\" align=\"center\" />"
   ]
  },
  {
   "cell_type": "code",
   "execution_count": null,
   "metadata": {
    "id": "YHdW9ZBK27kY"
   },
   "outputs": [],
   "source": [
    "def product_rating(data):\n",
    "    product_rating_data=data.find(class_= 'a-icon-alt')\n",
    "    if product_rating_data == None:\n",
    "        product_rating = 'Null'\n",
    "    else:\n",
    "        product_rating = product_rating_data.text\n",
    "    return product_rating    "
   ]
  },
  {
   "cell_type": "markdown",
   "metadata": {
    "id": "7BnxEK8S27kY"
   },
   "source": [
    "### <font color=#f79b34>5.8 product_rating_user_count ():\n",
    "    \n",
    "<p>&emsp;&emsp;&emsp;&emsp;&emsp;The function product_rating_user_count is used to extract the user whi have given rating to that product from the bs object using beautifulsoup library.</p>"
   ]
  },
  {
   "cell_type": "code",
   "execution_count": null,
   "metadata": {
    "id": "57KuJbmp27kY"
   },
   "outputs": [],
   "source": [
    "def product_rating_user_count(data):\n",
    "    product_rating_user_count_data=data.find('span',{'class': 'a-size-base puis-light-weight-text s-link-centralized-style'})\n",
    "    if product_rating_user_count_data == None:\n",
    "        product_rating_user_count = 'Null'\n",
    "    else:\n",
    "        product_rating_user_count = product_rating_user_count_data.text\n",
    "    return product_rating_user_count    "
   ]
  },
  {
   "cell_type": "markdown",
   "metadata": {
    "code_folding": [],
    "id": "zRD-2l9-27kY"
   },
   "source": [
    "### <font color=#f79b34>5.9 product_price ():\n",
    "    \n",
    "<p>&emsp;&emsp;&emsp;&emsp;&emsp;The function product_price retrieves both actual and discounted product price.</p>"
   ]
  },
  {
   "cell_type": "code",
   "execution_count": null,
   "metadata": {
    "id": "ELeQbjSh27kY"
   },
   "outputs": [],
   "source": [
    "def  product_price(data):\n",
    "    product_price_data=data.find_all(class_= 'a-offscreen')\n",
    "    if len(product_price_data) == 1:\n",
    "        product_actual_price = 'Null'\n",
    "        product_discounted_price = product_price_data[0].text\n",
    "    elif len(product_price_data) > 1:\n",
    "        product_discounted_price = product_price_data[0].text\n",
    "        product_actual_price = product_price_data[1].text\n",
    "    else:\n",
    "        product_actual_price = 'Null'\n",
    "        product_discounted_price = 'Null'\n",
    "    return [product_actual_price,product_discounted_price]   "
   ]
  },
  {
   "cell_type": "markdown",
   "metadata": {
    "id": "Y3fxxVIp27kZ"
   },
   "source": [
    "### <font color=#f79b34>5.10 product_image ():\n",
    "    \n",
    "<p>&emsp;&emsp;&emsp;&emsp;&emsp;The function product_image is used to extract the url which holds the image source.</p>"
   ]
  },
  {
   "cell_type": "code",
   "execution_count": null,
   "metadata": {
    "id": "HbSUd0GH27kZ"
   },
   "outputs": [],
   "source": [
    "def product_image(data):    \n",
    "    product_image_data=data.find(class_= 's-image')\n",
    "    if product_image_data == None:\n",
    "        product_image = 'Null'\n",
    "        product_discounted_price = 'Null'\n",
    "    else:\n",
    "        product_image = product_image_data['src']\n",
    "    return product_image     "
   ]
  },
  {
   "cell_type": "markdown",
   "metadata": {
    "id": "DOj8hTai27kZ"
   },
   "source": [
    "### <font color=#f79b34>5.11 product_link ():\n",
    "    \n",
    "<p>&emsp;&emsp;&emsp;&emsp;&emsp;The function product_link is used to extract the url which is the page dedicated to that product in amazon website.</p>"
   ]
  },
  {
   "cell_type": "code",
   "execution_count": null,
   "metadata": {
    "id": "2up543GE27kZ"
   },
   "outputs": [],
   "source": [
    "def product_link(data,region):\n",
    "    url = base_url(region)\n",
    "    product_link_data=data.find('a',{'class': 'a-size-base a-link-normal s-underline-text s-underline-link-text s-link-style a-text-normal'})  \n",
    "    if product_link_data == None:\n",
    "        product_link = 'Null'\n",
    "    else:\n",
    "        product_link = url+product_link_data['href'].strip()\n",
    "    return product_link    "
   ]
  },
  {
   "cell_type": "markdown",
   "metadata": {
    "id": "ymuyaoBc27ka"
   },
   "source": [
    "### <font color=#f79b34>5.12 data_extract ():\n",
    "    \n",
    "<p>&emsp;&emsp;&emsp;&emsp;&emsp;The function data_extract is used to group function 5.6 to function 5.11 and store those function return value in a Dataframe datatype and returns it.</p>"
   ]
  },
  {
   "cell_type": "code",
   "execution_count": null,
   "metadata": {
    "id": "AdN5WhYX27ka"
   },
   "outputs": [],
   "source": [
    "def data_extract(data,region):    \n",
    "      \n",
    "    df =pd.DataFrame({\n",
    "        'Product Name':[product_name(data)],\n",
    "        'product_rating':[product_rating(data)],\n",
    "        'product_rating_user_count':[product_rating_user_count(data)],\n",
    "        'product_actual_price': [product_price(data)[0]],\n",
    "        'product_discounted_price':[product_price(data)[1]],\n",
    "        'product_image':[product_image(data)],\n",
    "        'product_link': [product_link(data,region)],\n",
    "        'data_datetime':[str(datetime.datetime.now(timezone.utc))]         \n",
    "    })    \n",
    "    return df    "
   ]
  },
  {
   "cell_type": "markdown",
   "metadata": {
    "id": "Tlp1hBUK27ka"
   },
   "source": [
    "### <font color=#f79b34>5.13 page_extractor ():\n",
    "    \n",
    "<p>&emsp;&emsp;&emsp;&emsp;&emsp;The function page_extractor is used to extract each division (div tag) of the product row and runs the data_extract function.</p>"
   ]
  },
  {
   "cell_type": "code",
   "execution_count": null,
   "metadata": {
    "id": "uzXqKLBw27ka"
   },
   "outputs": [],
   "source": [
    "def page_extractor (data,region):\n",
    "    statement = True\n",
    "    i=1\n",
    "    final_data = pd.DataFrame()\n",
    "    while statement:\n",
    "        search_1 = 'MAIN-SEARCH_RESULTS-'+ str(i)\n",
    "        search_2 = 'MAIN-SEARCH_RESULTS-'+ str(i+1)\n",
    "        #print(search_1)\n",
    "        data_row =[]\n",
    "        temp_data_1 = data.find('div',{'cel_widget_id':search_1})\n",
    "        temp_data_2 = data.find('div',{'cel_widget_id':search_2})\n",
    "        if temp_data_1 == None and  temp_data_2 == None:\n",
    "            statement = False        \n",
    "        elif(temp_data_1 == None):\n",
    "            i+=1\n",
    "            continue            \n",
    "        else:\n",
    "            final_data=pd.concat([final_data,data_extract(temp_data_1,region)],ignore_index=True)            \n",
    "        \n",
    "        i+=1      \n",
    "    return final_data"
   ]
  },
  {
   "cell_type": "markdown",
   "metadata": {
    "id": "o1PflNk227kb"
   },
   "source": [
    "<h4><font color=green>Execution of page_extractor function :</h4>"
   ]
  },
  {
   "cell_type": "code",
   "execution_count": null,
   "metadata": {
    "id": "nNM4l3aK27kb",
    "outputId": "2f606188-3e97-4a56-e29e-a374038dae93"
   },
   "outputs": [
    {
     "name": "stdout",
     "output_type": "stream",
     "text": [
      "                      Product Name      product_rating  \\\n",
      "0    Apple iPhone 12 (64GB) - Blue  4.5 out of 5 stars   \n",
      "1  Apple iPhone 12 (128GB) - White  4.5 out of 5 stars   \n",
      "2   Apple iPhone 12 (64GB) - Black  4.5 out of 5 stars   \n",
      "\n",
      "  product_rating_user_count product_actual_price product_discounted_price  \\\n",
      "0                      Null              ₹65,900                  ₹48,900   \n",
      "1                      Null              ₹70,900                  ₹53,900   \n",
      "2                      Null              ₹65,900                  ₹48,900   \n",
      "\n",
      "                                       product_image  \\\n",
      "0  https://m.media-amazon.com/images/I/71ZOtNdaZC...   \n",
      "1  https://m.media-amazon.com/images/I/711wsjBtWe...   \n",
      "2  https://m.media-amazon.com/images/I/71fVoqRC0w...   \n",
      "\n",
      "                                        product_link  \\\n",
      "0  https://www.amazon.in//New-Apple-iPhone-12-64G...   \n",
      "1  https://www.amazon.in//New-Apple-iPhone-12-128...   \n",
      "2  https://www.amazon.in//New-Apple-iPhone-12-64G...   \n",
      "\n",
      "                      data_datetime  \n",
      "0  2022-11-08 07:11:16.468423+00:00  \n",
      "1  2022-11-08 07:11:16.473723+00:00  \n",
      "2  2022-11-08 07:11:16.537322+00:00  \n"
     ]
    }
   ],
   "source": [
    "demo_final_data = page_extractor (demo_bs_data,demo_region)\n",
    "print (demo_final_data)"
   ]
  },
  {
   "cell_type": "markdown",
   "metadata": {
    "id": "DnofResV27kb"
   },
   "source": [
    "### <font color=#f79b34>5.14 amazon_extractor ():\n",
    "    \n",
    "<p>&emsp;&emsp;&emsp;&emsp;&emsp;This function run the page_extractor for all pages and export it as a csv file.</p>"
   ]
  },
  {
   "cell_type": "code",
   "execution_count": null,
   "metadata": {
    "id": "XMqptdyx27kb"
   },
   "outputs": [],
   "source": [
    "def amazon_extractor (keyword ,region):\n",
    "    print(f\"Started extracting the search result for the Keyword {keyword} from {region.upper()}-AMAZON E-commerce Website. .................\\n\")\n",
    "    html_source = get_data(url_creator(keyword))\n",
    "    if html_source == None:\n",
    "        return None\n",
    "    data = BeautifulSoup(html_source.text, 'html.parser')\n",
    "    pages= int(get_total_pages(data))\n",
    "    qid = get_page_token(data)\n",
    "    if qid == None:\n",
    "        print(\"\\n Error: Invalid Page Token.\\n\")\n",
    "        return None\n",
    "    final_df = pd.DataFrame()\n",
    "    \n",
    "    for i in range(1,pages+1):\n",
    "        data_source= get_data(url_creator(keyword,qid,i,region))\n",
    "        if data_source == None:\n",
    "            continue\n",
    "        data = BeautifulSoup(data_source.text, 'html.parser')\n",
    "        final_df=pd.concat([final_df, page_extractor(data,region)],ignore_index=True)\n",
    "        \n",
    "    final_df.reset_index()\n",
    "    file_name = 'Output-amazon-'+region+' search result for '+keyword +'.csv'\n",
    "    final_df.to_csv(file_name,index =False)\n",
    "    print (f\"................ The Extraction has been Completed Successfully. \\nThe File {file_name} has been exported Successfully.\\n\")\n",
    "    return file_name"
   ]
  },
  {
   "cell_type": "markdown",
   "metadata": {
    "id": "sKt3m_Qf27kc"
   },
   "source": [
    "<h4><font color=green>Execution of amazon_extractor function :</h4>"
   ]
  },
  {
   "cell_type": "code",
   "execution_count": null,
   "metadata": {
    "id": "6av-KKXv27kc",
    "outputId": "b1f85284-5e7c-45c6-88ba-875cc1eb53d2"
   },
   "outputs": [
    {
     "name": "stdout",
     "output_type": "stream",
     "text": [
      "Started extracting the search result for the Keyword Iphone from INDIA-AMAZON E-commerce Website. .................\n",
      "\n",
      "................ The Extraction has been Completed Successfully. \n",
      "The File Output-amazon-India search result for Iphone.csv has been exported Successfully.\n",
      "\n",
      "The exported file name is Output-amazon-India search result for Iphone.csv\n"
     ]
    }
   ],
   "source": [
    "exported_file_name = amazon_extractor (demo_keyword,demo_region)\n",
    "print(f\"The exported file name is {exported_file_name}\")"
   ]
  },
  {
   "cell_type": "markdown",
   "metadata": {
    "id": "JuvN3jRt27kc"
   },
   "source": [
    "<h4><font color=green>Exported Output file:</h4>\n",
    "    <img src=\"https://i.imgur.com/uCBOHOX.png\" alt=\"qid\" style=\"width: 800px;\" align=\"center\" />\n",
    "<br>\n",
    "<hr style=\"height:2px;border-width:0;color:gray;background-color:#f79b34\">"
   ]
  },
  {
   "cell_type": "markdown",
   "metadata": {
    "id": "0MCKWFA327kc"
   },
   "source": [
    "## <font color=green>6. Main\n",
    "    \n"
   ]
  },
  {
   "cell_type": "markdown",
   "metadata": {
    "id": "s_3PQbzQ27kc"
   },
   "source": [
    "<p>&emsp;&emsp;Here the input file which is a dataset of keywords and region is executed in the amazon_extractor function</p>"
   ]
  },
  {
   "cell_type": "code",
   "execution_count": null,
   "metadata": {
    "id": "Dvw__5e827kd",
    "outputId": "a900faff-3de4-4007-a8e8-6701ab84f707",
    "scrolled": false
   },
   "outputs": [
    {
     "name": "stdout",
     "output_type": "stream",
     "text": [
      "Started extracting the search result for the Keyword mobile from POLAND-AMAZON E-commerce Website. .................\n",
      "\n",
      "................ The Extraction has been Completed Successfully. \n",
      "The File Output-amazon-poland search result for mobile.csv has been exported Successfully.\n",
      "\n",
      "Started extracting the search result for the Keyword Laptop from AUSTRALIA-AMAZON E-commerce Website. .................\n",
      "\n",
      "................ The Extraction has been Completed Successfully. \n",
      "The File Output-amazon-australia search result for Laptop.csv has been exported Successfully.\n",
      "\n",
      "Started extracting the search result for the Keyword chocolate from ITALY-AMAZON E-commerce Website. .................\n",
      "\n",
      "................ The Extraction has been Completed Successfully. \n",
      "The File Output-amazon-italy search result for chocolate.csv has been exported Successfully.\n",
      "\n",
      "Started extracting the search result for the Keyword shower head from POLAND-AMAZON E-commerce Website. .................\n",
      "\n",
      "................ The Extraction has been Completed Successfully. \n",
      "The File Output-amazon-poland search result for shower head.csv has been exported Successfully.\n",
      "\n",
      "Started extracting the search result for the Keyword bracelet from BELGIUM-AMAZON E-commerce Website. .................\n",
      "\n",
      "................ The Extraction has been Completed Successfully. \n",
      "The File Output-amazon-belgium search result for bracelet.csv has been exported Successfully.\n",
      "\n",
      "Started extracting the search result for the Keyword samsung Mobile from US-AMAZON E-commerce Website. .................\n",
      "\n",
      "................ The Extraction has been Completed Successfully. \n",
      "The File Output-amazon-us search result for samsung Mobile.csv has been exported Successfully.\n",
      "\n",
      "Started extracting the search result for the Keyword iphone from UK-AMAZON E-commerce Website. .................\n",
      "\n",
      "................ The Extraction has been Completed Successfully. \n",
      "The File Output-amazon-uk search result for iphone.csv has been exported Successfully.\n",
      "\n",
      "Started extracting the search result for the Keyword memory card from UAE-AMAZON E-commerce Website. .................\n",
      "\n",
      "................ The Extraction has been Completed Successfully. \n",
      "The File Output-amazon-uae search result for memory card.csv has been exported Successfully.\n",
      "\n",
      "Started extracting the search result for the Keyword ssd from EGYPT-AMAZON E-commerce Website. .................\n",
      "\n",
      "................ The Extraction has been Completed Successfully. \n",
      "The File Output-amazon-egypt search result for ssd.csv has been exported Successfully.\n",
      "\n",
      "Started extracting the search result for the Keyword charger wire from INDIA-AMAZON E-commerce Website. .................\n",
      "\n",
      "................ The Extraction has been Completed Successfully. \n",
      "The File Output-amazon-india search result for charger wire.csv has been exported Successfully.\n",
      "\n",
      "Started extracting the search result for the Keyword toys from MEXICO-AMAZON E-commerce Website. .................\n",
      "\n",
      "................ The Extraction has been Completed Successfully. \n",
      "The File Output-amazon-mexico search result for toys.csv has been exported Successfully.\n",
      "\n",
      "Started extracting the search result for the Keyword cotton shirt from BRASIL-AMAZON E-commerce Website. .................\n",
      "\n",
      "................ The Extraction has been Completed Successfully. \n",
      "The File Output-amazon-brasil search result for cotton shirt.csv has been exported Successfully.\n",
      "\n",
      "Started extracting the search result for the Keyword smart watch from CHINA-AMAZON E-commerce Website. .................\n",
      "\n",
      "................ The Extraction has been Completed Successfully. \n",
      "The File Output-amazon-china search result for smart watch.csv has been exported Successfully.\n",
      "\n",
      "Started extracting the search result for the Keyword sofa from AUSTRALIA-AMAZON E-commerce Website. .................\n",
      "\n",
      "................ The Extraction has been Completed Successfully. \n",
      "The File Output-amazon-australia search result for sofa.csv has been exported Successfully.\n",
      "\n",
      "Started extracting the search result for the Keyword hand soap from SAUDI ARABIA-AMAZON E-commerce Website. .................\n",
      "\n",
      "................ The Extraction has been Completed Successfully. \n",
      "The File Output-amazon-saudi arabia search result for hand soap.csv has been exported Successfully.\n",
      "\n",
      "CPU times: user 1min 3s, sys: 486 ms, total: 1min 4s\n",
      "Wall time: 4min 46s\n"
     ]
    }
   ],
   "source": [
    "%%time\n",
    "\n",
    "\n",
    "df = pd.read_csv(\"INPUT_FILE.csv\")\n",
    "output_files=[]\n",
    "for i in df.index:\n",
    "    curr_file = amazon_extractor (df['keyword'][i] ,df['region'][i])\n",
    "    if curr_file !=None:\n",
    "        output_files.append(curr_file)\n",
    "\n",
    "    \n",
    "    "
   ]
  },
  {
   "cell_type": "markdown",
   "metadata": {
    "id": "jWw1_V7227kd"
   },
   "source": [
    "<h4><font color=green>Exported Output files:</h4>\n",
    "    <img src=\"https://i.imgur.com/IhqlL47.png\" alt=\"qid\" style=\"width: 800px;\" align=\"center\" />\n",
    "<br>\n",
    "<hr style=\"height:2px;border-width:0;color:gray;background-color:#f79b34\">"
   ]
  },
  {
   "cell_type": "markdown",
   "metadata": {
    "id": "SX9aDeA8-GQW"
   },
   "source": [
    "## <font color=green>7. Summary\n",
    "\n"
   ]
  },
  {
   "cell_type": "markdown",
   "metadata": {
    "id": "ecTsDkey-FtQ"
   },
   "source": [
    "Here's what we have covered,\n",
    "\n",
    "1. Find the region specific amazon website using the region input.\n",
    "\n",
    "2. Download the product keyword search webpages using \"requests\" python library.\n",
    "\n",
    "3. Used BeautifulSoup to parse the HTML source code.\n",
    "\n",
    "4. Extracted data such as Product name, Product actual rate, Product discounted rate, Product rating, Product rating user count, Product image link, and Product link from the beautiful Soup object.\n",
    "\n",
    "5. Collected the extracted information into Pandas library DataFrame.\n",
    "\n",
    "6. Extract and combine data from multiple pages.\n",
    "\n",
    "7. Create CSV file with the all the information that we had extracted from the above steps.\n",
    "\n",
    "8. Repeated the above steps for the rest of the inputs fro the input file."
   ]
  },
  {
   "cell_type": "markdown",
   "metadata": {
    "id": "Et_cUO8M-FQp"
   },
   "source": [
    "<hr style=\"height:2px;border-width:0;color:gray;background-color:#f79b34\">"
   ]
  },
  {
   "cell_type": "markdown",
   "metadata": {
    "id": "4JCal4Mu27kd"
   },
   "source": [
    "## <font color=green>8. Future Work\n",
    "    \n"
   ]
  },
  {
   "cell_type": "markdown",
   "metadata": {
    "id": "Ia6vYQpk27ke"
   },
   "source": [
    "<p>We can improve this project by web crawling more deeply and extracting the specification and description of each product. We can also webscrap the seller details for more insights on seller distribution across the world and the supply chain, etc. Webscraping the Amazon websites for different regions can also give you more data where we can do analysis on the product rate history, likability, and can produce much more insight with these data sets.</p>"
   ]
  },
  {
   "cell_type": "markdown",
   "metadata": {
    "id": "goHLOLpT27ke"
   },
   "source": [
    "<hr style=\"height:2px;border-width:0;color:gray;background-color:#f79b34\">"
   ]
  },
  {
   "cell_type": "markdown",
   "metadata": {
    "id": "hh4FUSh827ke"
   },
   "source": [
    "## <font color=green>9. References\n",
    "    "
   ]
  },
  {
   "cell_type": "markdown",
   "metadata": {
    "id": "NxhcMaCt27ke"
   },
   "source": [
    "* <a href=\"https://www.amazon.com/gp/navigation-country/select-country\"><b><i>All AMAZON E-commerce Websites </i></b></a>\n",
    "* <a href=\"https://docs.python.org/3/\"><b><i>Python offical documentation </i></b></a>\n",
    "* <a href=\"https://pandas.pydata.org/docs/\"><b><i>Pandas library documentation</i></b></a>\n",
    "* <a href=\"https://www.w3schools.com/html/html_links.asp\"><b><i>W3 Schools for HTML & CSS querys </i></b></a>\n",
    "* <a href=\"https://www.crummy.com/software/BeautifulSoup/bs4/doc/\"><b><i>Beautiful Soup documentation</i></b></a>"
   ]
  },
  {
   "cell_type": "markdown",
   "metadata": {
    "id": "_qgNzPwb27ke"
   },
   "source": [
    "<hr style=\"height:2px;border-width:0;color:gray;background-color:#f79b34\">"
   ]
  },
  {
   "cell_type": "code",
   "execution_count": null,
   "metadata": {
    "id": "kCwvu-h927kf",
    "outputId": "95459ec2-2754-4042-f4b7-7fcbb41237f1"
   },
   "outputs": [
    {
     "name": "stdout",
     "output_type": "stream",
     "text": [
      "['Output-amazon-poland search result for mobile.csv', 'Output-amazon-australia search result for Laptop.csv', 'Output-amazon-italy search result for chocolate.csv', 'Output-amazon-poland search result for shower head.csv', 'Output-amazon-belgium search result for bracelet.csv', 'Output-amazon-us search result for samsung Mobile.csv', 'Output-amazon-uk search result for iphone.csv', 'Output-amazon-uae search result for memory card.csv', 'Output-amazon-egypt search result for ssd.csv', 'Output-amazon-india search result for charger wire.csv', 'Output-amazon-mexico search result for toys.csv', 'Output-amazon-brasil search result for cotton shirt.csv', 'Output-amazon-china search result for smart watch.csv', 'Output-amazon-australia search result for sofa.csv', 'Output-amazon-saudi arabia search result for hand soap.csv']\n"
     ]
    }
   ],
   "source": [
    "print (output_files)"
   ]
  },
  {
   "cell_type": "code",
   "execution_count": null,
   "metadata": {
    "id": "-Hr2Z9I227kh",
    "outputId": "11182b58-d779-46bb-a44e-eef6c4cab201"
   },
   "outputs": [
    {
     "data": {
      "application/javascript": [
       "window.require && require([\"base/js/namespace\"],function(Jupyter){Jupyter.notebook.save_checkpoint()})"
      ],
      "text/plain": [
       "<IPython.core.display.Javascript object>"
      ]
     },
     "metadata": {},
     "output_type": "display_data"
    }
   ],
   "source": [
    "jovian.commit(files=[\"INPUT_FILE.csv\"],outputs=output_files)"
   ]
  },
  {
   "cell_type": "code",
   "execution_count": null,
   "metadata": {
    "colab": {
     "base_uri": "https://localhost:8080/"
    },
    "id": "G8FD8C8v27kh",
    "outputId": "43fb70cf-ef5d-4256-b679-49a213c14b65"
   },
   "outputs": [
    {
     "name": "stdout",
     "output_type": "stream",
     "text": [
      "[jovian] Detected Colab notebook...\u001b[0m\n"
     ]
    },
    {
     "name": "stderr",
     "output_type": "stream",
     "text": [
      "\u001b[31m[jovian] Error: jovian.commit doesn't work on Colab unless the notebook was created and executed from Jovian.\n",
      "Make sure to run the first code cell at the top after executing from Jovian.\n",
      "Alternatively, you can download this notebook and upload it manually to Jovian.\n",
      "Learn more: https://jovian.ai/docs/user-guide/run.html#run-on-colab\u001b[0m\n"
     ]
    }
   ],
   "source": [
    "jovian.commit()"
   ]
  },
  {
   "cell_type": "code",
   "execution_count": null,
   "metadata": {
    "id": "eSs_021X27kh"
   },
   "outputs": [],
   "source": []
  }
 ],
 "metadata": {
  "colab": {
   "provenance": [],
   "toc_visible": true
  },
  "kernelspec": {
   "display_name": "Python 3 (ipykernel)",
   "language": "python",
   "name": "python3"
  },
  "language_info": {
   "codemirror_mode": {
    "name": "ipython",
    "version": 3
   },
   "file_extension": ".py",
   "mimetype": "text/x-python",
   "name": "python",
   "nbconvert_exporter": "python",
   "pygments_lexer": "ipython3",
   "version": "3.9.7"
  }
 },
 "nbformat": 4,
 "nbformat_minor": 1
}
